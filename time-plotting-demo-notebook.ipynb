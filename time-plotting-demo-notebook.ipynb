{
 "cells": [
  {
   "cell_type": "markdown",
   "metadata": {},
   "source": [
    "# Seaborn time plotting demo"
   ]
  },
  {
   "cell_type": "markdown",
   "metadata": {},
   "source": [
    "How to plot datetime values in a seaborn graph.  We use a fictional event stream with begin and end events for the time slices."
   ]
  },
  {
   "cell_type": "code",
   "execution_count": null,
   "metadata": {},
   "outputs": [],
   "source": [
    "import datetime as dt\n",
    "import numpy as np\n",
    "import pandas as pd\n",
    "import seaborn as sns\n",
    "sns.set(style=\"white\")"
   ]
  },
  {
   "cell_type": "markdown",
   "metadata": {},
   "source": [
    "## Create a dataframe with time strings and labels\n",
    "\n",
    "https://stackoverflow.com/a/51308247/8928529"
   ]
  },
  {
   "cell_type": "code",
   "execution_count": null,
   "metadata": {},
   "outputs": [],
   "source": [
    "data = np.array([[\"2020-05-06T00:10:33.000Z\", 4, \"1\"], [\"2020-05-06T00:10:59.000Z\", 7, \"2\"], [\"2020-05-06T00:10:59.000Z\", 3, \"1\"], [\"2020-05-06T00:11:43.000Z\",7, \"2\"],[\"2020-05-06T00:11:43.000Z\",5, \"1\"]])\n",
    "data"
   ]
  },
  {
   "cell_type": "code",
   "execution_count": null,
   "metadata": {},
   "outputs": [],
   "source": [
    "df = pd.DataFrame({'time': data[:, 0], 'labels': data[:, 1], 'event': data[:, 2]})\n",
    "print(df)"
   ]
  },
  {
   "cell_type": "markdown",
   "metadata": {},
   "source": [
    "## Plot Relative Time\n",
    "\n",
    "You can  plot time events as a string but it doesn't have relative distance.\n",
    "It's just plotting one event after the next.  \n",
    "That's ok for showing sequence of events in the sorted data set but doesn't convey the span of association with an AP. \n",
    "\n",
    "It will be better to have the x axis account for the time distance between events.  The relplot() doesn't work with real datetime values.  The [recommendation is to convert to unix time in seconds](https://stackoverflow.com/a/44572082/8928529) for plotting and then display the x-axis labels with the associated dates.\n"
   ]
  },
  {
   "cell_type": "markdown",
   "metadata": {},
   "source": [
    "We need to [convert the string representation of time to a datetime type for proper time computation](https://stackoverflow.com/a/32204679/8928529). Let's add the column and sort on it."
   ]
  },
  {
   "cell_type": "code",
   "execution_count": null,
   "metadata": {},
   "outputs": [],
   "source": [
    "df['datetime'] = pd.to_datetime(df.time)"
   ]
  },
  {
   "cell_type": "code",
   "execution_count": null,
   "metadata": {},
   "outputs": [],
   "source": [
    "df.head(5)"
   ]
  },
  {
   "cell_type": "markdown",
   "metadata": {},
   "source": [
    "Convert to unix time by [subtracting the epoch date](https://stackoverflow.com/a/54313505/8928529).  Use floor division (//) for whole seconds."
   ]
  },
  {
   "cell_type": "code",
   "execution_count": null,
   "metadata": {},
   "outputs": [],
   "source": [
    "df['utime'] = (df['datetime'] - pd.Timestamp(\"1970-01-01T00:00:00.000Z\")) // pd.Timedelta('1s') "
   ]
  },
  {
   "cell_type": "markdown",
   "metadata": {},
   "source": [
    "The unix time will get correct relative time positions but to make the labels easier to read we need to convert the values from seconds to real time.  Seaborn plots return a handle that can be used to access the matplotlib.pyplot.axes object.  This can be used to [customize the values of the tickmarks on the x-axis back to dates](https://stackoverflow.com/a/52234951/8928529).\n",
    "\n",
    "In the plot below we look at a very short sequence of events to make it easier to see the reationships between the association success and deauth from station messages.  We use right arrows for association success (begin) events and left arrows for deauth (end) events.\n",
    "\n",
    "It's worth noting that [you can pass additional matplotlib parameters in seaborn plots and they get passed to the underlying plot functions](https://stackoverflow.com/a/52785672/8928529). Here we make the marker size bigger so the arrows are easier to read (s=100)."
   ]
  },
  {
   "cell_type": "code",
   "execution_count": null,
   "metadata": {},
   "outputs": [],
   "source": [
    "def timeticks(ax, tformat=\"%H:%M:%S\\n%Y-%m-%d\"):\n",
    "    xticks = ax.get_xticks()\n",
    "    xticks_dates = [dt.datetime.fromtimestamp(x).strftime(tformat) for x in xticks]\n",
    "    hush = ax.set_xticklabels(xticks_dates)"
   ]
  },
  {
   "cell_type": "code",
   "execution_count": null,
   "metadata": {},
   "outputs": [],
   "source": [
    "# build the replot and capture the handle\n",
    "g = sns.relplot(x=\"utime\", y=\"labels\",\n",
    "            hue=\"event\", \n",
    "            style_order=['1',\"2\"],\n",
    "            style=\"event\",\n",
    "            markers=\"><\",\n",
    "            palette=\"bright\",\n",
    "            aspect=2,\n",
    "            data=df[:10],\n",
    "            s=100)\n",
    "\n",
    "# update the axis labels\n",
    "g = (g.set_axis_labels(\"Date\", \"AP\"))\n",
    "\n",
    "# update the x tickmarks from unix time to hour minute seconds\n",
    "ax = g.axes\n",
    "ax = ax[0,0]\n",
    "timeticks(ax)"
   ]
  }
 ],
 "metadata": {
  "language_info": {
   "name": "python",
   "pygments_lexer": "ipython3"
  }
 },
 "nbformat": 4,
 "nbformat_minor": 4
}
